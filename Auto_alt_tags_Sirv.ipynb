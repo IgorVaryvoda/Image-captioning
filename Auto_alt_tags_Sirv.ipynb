import replicate
import os
import json
import requests
import sys
import re
from urllib.parse import urlparse
os.environ["REPLICATE_API_TOKEN"] = replicate_api_key

def get_token():
  # Get Sirv auth token. API reference - https://apidocs.sirv.com/#connect-to-sirv-api
  payload = {
    'clientId': sirv_id,
    'clientSecret': sirv_secret
  }
  headers = {'content-type': 'application/json', "Origin": "*"}
  response = requests.request('POST', 'https://api.sirv.com/v2/token', data=json.dumps(payload), headers=headers)
  global token
  if response:
    token = response.json()['token']
  else:
    print('There is an error in your credentials. Please check if your ID and secret are correct.')
    sys.exit()

def get_description(image):
  global output
  if (use_blip2):
    # Get the image description
    try:
      output = replicate.run(
        "andreasjansson/blip-2:4b32258c42e9efd4288bb9910bc532a69727f9acd26aa08e175713a0a857a608",
        input={"image": image}
      )
      output = version.predict(**inputs)
    except Exception as e: print(e)
  else:
    model = replicate.models.get("salesforce/blip")
    version = model.versions.get("2e1dddc8621f72155f24cf2e0adbde548458d3cab9f00c0139eea840d0ac4746")
    try:
        inputs = {
            # Input image to query or caption
            'image': image,
            'task': "image_captioning",
        }
        output = version.predict(**inputs)
    except Exception as e: print(e)

def update_meta(image, output, token):
  '''
  Update the image description in Sirv.
  API reference - https://apidocs.sirv.com/#set-meta-description
  '''
  description = '{"description": "'+ output.capitalize() + '"}'
  params = {"filename": urlparse(image).path.replace('\n', '')}
  headers = {
    'content-type': "application/json",
    "Origin": "*",
    'authorization': 'Bearer %s' % token
  }

  try:
    print('Updating the image description in Sirv \n')
    response = requests.request('POST', 'https://api.sirv.com/v2/files/meta/description', data=description.encode('utf-8'), headers=headers, params=params)
    if response.status_code == 200:
      print('✅success')
    elif response.status_code == 401: #token expired, get new one
      get_token()
  except requests.exceptions.RequestException as e:
    raise SystemExit(e)
  
#We're opening the txt file and looping through each image in the file
get_token()
with open('images.txt') as f:
  for image in f:
    #Replicate stuff
    image = re.sub(r',|\?.*| \&.*', '', image).strip() + '?s=300'
    get_description(image)
    print(f"Working on file: {image}, caption:{output}")
    if (len(output) == 0):
      print("No description detected.")
    else:
        update_meta(image, output, token)
