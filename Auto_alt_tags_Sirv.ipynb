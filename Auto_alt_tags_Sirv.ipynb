{
  "cells": [
    {
      "cell_type": "markdown",
      "metadata": {
        "colab_type": "text",
        "id": "view-in-github"
      },
      "source": [
        "<a href=\"https://colab.research.google.com/github/IgorVaryvoda/Image-captioning/blob/main/Auto_alt_tags_Sirv.ipynb\" target=\"_parent\"><img src=\"https://colab.research.google.com/assets/colab-badge.svg\" alt=\"Open In Colab\"/></a>"
      ]
    },
    {
      "attachments": {},
      "cell_type": "markdown",
      "metadata": {
        "id": "tQdiMSmTYA_7"
      },
      "source": [
        "Image alt tags are important for both accessibility and SEO. But writing alt tags and adding them to images can be quite a chore. What if there was a way to automate this process?\n",
        "\n",
        "Luckily, image recognition AI models like BLIP have come a long way, and services like Replicate allow us to use them via simple API calls. Let's leverage the power of AI and Sirv to automatically add alt tags to your images.\n",
        "\n",
        "[Read the full article here ](https://sirv.com/help/articles/auto-alt-tags-ai)\n",
        "\n",
        "Save a dopy of the notebook and follow these steps (press the \"Run cell\" buttons near each code block):"
      ]
    },
    {
      "cell_type": "markdown",
      "metadata": {
        "id": "HAabNXBJYl5C"
      },
      "source": [
        "# 1. Install Prerequisites\n",
        "\n"
      ]
    },
    {
      "cell_type": "code",
      "execution_count": 1,
      "metadata": {
        "colab": {
          "base_uri": "https://localhost:8080/"
        },
        "id": "qx6H7-3-Ye7Q",
        "outputId": "02d80a50-0aa6-4f7f-de42-290e6a423c16",
        "vscode": {
          "languageId": "python"
        }
      },
      "outputs": [
        {
          "name": "stdout",
          "output_type": "stream",
          "text": [
            "Looking in indexes: https://pypi.org/simple, https://us-python.pkg.dev/colab-wheels/public/simple/\n",
            "Collecting replicate\n",
            "  Downloading replicate-0.5.1.tar.gz (15 kB)\n",
            "  Preparing metadata (setup.py) ... \u001b[?25l\u001b[?25hdone\n",
            "Requirement already satisfied: requests in /usr/local/lib/python3.9/dist-packages (from replicate) (2.25.1)\n",
            "Requirement already satisfied: pydantic in /usr/local/lib/python3.9/dist-packages (from replicate) (1.10.6)\n",
            "Requirement already satisfied: packaging in /usr/local/lib/python3.9/dist-packages (from replicate) (23.0)\n",
            "Requirement already satisfied: typing-extensions>=4.2.0 in /usr/local/lib/python3.9/dist-packages (from pydantic->replicate) (4.5.0)\n",
            "Requirement already satisfied: idna<3,>=2.5 in /usr/local/lib/python3.9/dist-packages (from requests->replicate) (2.10)\n",
            "Requirement already satisfied: chardet<5,>=3.0.2 in /usr/local/lib/python3.9/dist-packages (from requests->replicate) (4.0.0)\n",
            "Requirement already satisfied: urllib3<1.27,>=1.21.1 in /usr/local/lib/python3.9/dist-packages (from requests->replicate) (1.26.15)\n",
            "Requirement already satisfied: certifi>=2017.4.17 in /usr/local/lib/python3.9/dist-packages (from requests->replicate) (2022.12.7)\n",
            "Building wheels for collected packages: replicate\n",
            "  Building wheel for replicate (setup.py) ... \u001b[?25l\u001b[?25hdone\n",
            "  Created wheel for replicate: filename=replicate-0.5.1-py3-none-any.whl size=14795 sha256=b0e9ad5e60bf151ceaa44a1dbf275bea5c75387e71d2f671548f9eb61e6c4c7e\n",
            "  Stored in directory: /root/.cache/pip/wheels/ba/4e/82/3a8bb76d45a5f81c79a1ff0eaa1dd43b69822f5d622280b6eb\n",
            "Successfully built replicate\n",
            "Installing collected packages: replicate\n",
            "Successfully installed replicate-0.5.1\n"
          ]
        }
      ],
      "source": [
        "!pip install replicate\n",
        "# Download the demo images file (VM filesystem isn't persistent)\n",
        "!wget -q https://sirv.sirv.com/website/screenshots/auto-alt-tags/images.txt"
      ]
    },
    {
      "cell_type": "markdown",
      "metadata": {
        "id": "eAgbMibYY8rd"
      },
      "source": [
        "#2. Add API keys"
      ]
    },
    {
      "attachments": {},
      "cell_type": "markdown",
      "metadata": {
        "id": "na6U4-OXhyng"
      },
      "source": [
        "Get a Replicate API key here - <a href=\"https://replicate.com/signin?next=/docs\">here</a>\n",
        "Get Sirv keys by [following these instructions](https://sirv.com/help/articles/auto-alt-tags-ai#get-sirv-rest-api-keys)"
      ]
    },
    {
      "cell_type": "code",
      "execution_count": 17,
      "metadata": {
        "cellView": "form",
        "id": "pqWywXdkaEWo",
        "vscode": {
          "languageId": "python"
        }
      },
      "outputs": [],
      "source": [
        "#@title 2.3 Add your API keys here\n",
        "#@markdown Replicate key\n",
        "\n",
        "replicate_api_key = '' #@param {type:\"string\"}\n",
        "#@markdown Sirv keys\n",
        "sirv_id = '' #@param {type: \"string\"}\n",
        "sirv_secret = '' #@param {type: \"string\"}\n",
        "#@markdown Choose the model. BLIP is faster, but less detailed, BLIP2 is more accurate, but way more resource intensive. \n",
        "# Uncheck the checkbox below to use BLIP instead of BLIP2\n",
        "use_blip2 = True #@param {type: \"boolean\"}"
      ]
    },
    {
      "cell_type": "markdown",
      "metadata": {
        "id": "5oITBiKEikEw"
      },
      "source": [
        "# Add your images \n",
        "Add images to /content/images.txt\n",
        "\n",
        "Learn how to get them here - https://sirv.com/help/articles/auto-alt-tags-ai#adding-image-alt-tags-in-bulk"
      ]
    },
    {
      "cell_type": "markdown",
      "metadata": {
        "id": "gT_Jx0tUheZI"
      },
      "source": [
        "# Run the code"
      ]
    },
    {
      "cell_type": "code",
      "execution_count": 18,
      "metadata": {
        "colab": {
          "base_uri": "https://localhost:8080/"
        },
        "id": "er0qagjNZNyt",
        "outputId": "fd02a0c1-cd6e-46bb-ab9d-86bb9edd300d",
        "vscode": {
          "languageId": "python"
        }
      },
      "outputs": [
        {
          "name": "stdout",
          "output_type": "stream",
          "text": [
            "Working on file: https://cdn.earthroulette.com/help-ukraine/protest.jpg\n",
            ", caption:a crowd of people holding signs and flags\n",
            "Updating the image description in Sirv\n",
            "success\n",
            "Working on file: https://cdn.earthroulette.com/help-ukraine/dontfundwar.jpg\n",
            ", caption:the logo for danone on a black background\n",
            "Updating the image description in Sirv\n",
            "success\n",
            "Working on file: https://cdn.earthroulette.com/help-ukraine/refugees.jpg\n",
            ", caption:two women hugging in front of a tent\n",
            "Updating the image description in Sirv\n",
            "success\n",
            "Working on file: https://cdn.earthroulette.com/help-ukraine/army.jpg\n",
            ", caption:ukrainian soldiers in camouflage uniforms standing next to each other\n",
            "Updating the image description in Sirv\n",
            "success\n",
            "Working on file: https://cdn.earthroulette.com/help-ukraine/FMWRQvhXsAESunV.jpg\n",
            ", caption:the flag of ukraine is fluttering in the wind\n",
            "Updating the image description in Sirv\n",
            "success\n",
            "Working on file: https://cdn.earthroulette.com/help-ukraine/petition.webp, caption:a hand writing on a piece of paper\n",
            "Updating the image description in Sirv\n",
            "success\n"
          ]
        }
      ],
      "source": [
        "import replicate\n",
        "import os\n",
        "import json\n",
        "import requests\n",
        "import sys\n",
        "from urllib.parse import urlparse\n",
        "os.environ[\"REPLICATE_API_TOKEN\"] = replicate_api_key\n",
        "\n",
        "def get_token():\n",
        "  # Get Sirv auth token. API reference - https://apidocs.sirv.com/#connect-to-sirv-api\n",
        "  payload = {\n",
        "    'clientId': sirv_id,\n",
        "    'clientSecret': sirv_secret\n",
        "  }\n",
        "  headers = {'content-type': 'application/json', \"Origin\": \"*\"}\n",
        "  response = requests.request('POST', 'https://api.sirv.com/v2/token', data=json.dumps(payload), headers=headers)\n",
        "  global token\n",
        "  if response:\n",
        "    token = response.json()['token']\n",
        "  else:\n",
        "    print('There is an error in your credentials. Please check if your ID and secret are correct.')\n",
        "    sys.exit()\n",
        "\n",
        "def get_description(image):\n",
        "  global output\n",
        "  if (use_blip2):\n",
        "    model = replicate.models.get(\"salesforce/blip-2\")\n",
        "    version = model.versions.get(\"4b32258c42e9efd4288bb9910bc532a69727f9acd26aa08e175713a0a857a608\")\n",
        "    # Get the image description\n",
        "    try:\n",
        "      inputs = {\n",
        "          'image': image,\n",
        "          'caption': True,\n",
        "          'question': False,\n",
        "          'use_nucleus_sampling': False,\n",
        "          'temperature': 1,\n",
        "      }\n",
        "      output = version.predict(**inputs)\n",
        "    except Exception as e: print(e)\n",
        "  else:\n",
        "    model = replicate.models.get(\"salesforce/blip\")\n",
        "    version = model.versions.get(\"2e1dddc8621f72155f24cf2e0adbde548458d3cab9f00c0139eea840d0ac4746\")\n",
        "    try:\n",
        "        inputs = {\n",
        "            # Input image to query or caption\n",
        "            'image': image,\n",
        "            'task': \"image_captioning\",\n",
        "        }\n",
        "        output = version.predict(**inputs)\n",
        "    except Exception as e: print(e)\n",
        "\n",
        "def update_meta(image, output, token):\n",
        "  '''\n",
        "  Update the image description in Sirv.\n",
        "  API reference - https://apidocs.sirv.com/#set-meta-description\n",
        "  '''\n",
        "  description = '{\"description\": \"'+ output.capitalize() + '\"}'\n",
        "  params = {\"filename\": urlparse(image).path.replace('\\n', '')}\n",
        "  headers = {\n",
        "    'content-type': \"application/json\",\n",
        "    \"Origin\": \"*\",\n",
        "    'authorization': 'Bearer %s' % token\n",
        "  }\n",
        "\n",
        "  try:\n",
        "    print('Updating the image description in Sirv')\n",
        "    response = requests.request('POST', 'https://api.sirv.com/v2/files/meta/description', data=description.encode('utf-8'), headers=headers, params=params)\n",
        "    if response.status_code == 200:\n",
        "      print('✅success')\n",
        "    elif response.status_code == 401: #token expired, get new one\n",
        "      get_token()\n",
        "  except requests.exceptions.RequestException as e:\n",
        "    raise SystemExit(e)\n",
        "\n",
        "#We're opening the txt file and looping through each image in the file\n",
        "get_token()\n",
        "with open('images.txt') as f:\n",
        "  for image in f:\n",
        "    #Replicate stuff\n",
        "    get_description(image)\n",
        "    print(f\"Working on file: {image}, caption:{output}\")\n",
        "    if (len(output) == 0):\n",
        "      print(\"No description detected.\")\n",
        "    else:\n",
        "        update_meta(image, output, token)\n"
      ]
    }
  ],
  "metadata": {
    "colab": {
      "authorship_tag": "ABX9TyMIERrQG8GkmzO0rz3AJNTy",
      "include_colab_link": true,
      "name": "Auto alt tags - Sirv",
      "provenance": []
    },
    "kernelspec": {
      "display_name": "Python 3",
      "name": "python3"
    }
  },
  "nbformat": 4,
  "nbformat_minor": 0
}
